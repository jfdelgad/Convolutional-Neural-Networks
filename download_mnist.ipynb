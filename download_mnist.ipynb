{
 "cells": [
  {
   "cell_type": "code",
   "execution_count": null,
   "metadata": {},
   "outputs": [],
   "source": [
    "from keras.datasets import mnist\n",
    "\n",
    "# Get dataset Mnist\n",
    "(trainData,trainLabels),(testData,testLabels)  = mnist.load_data()\n",
    "\n",
    "\n",
    "# save dataset to hard drive\n",
    "import pickle\n",
    "f = open(\"mnistData.pickle\",\"wb\")\n",
    "pickle.dump([trainData,testData,trainLabels,testLabels],f)\n",
    "f.close()\n"
   ]
  }
 ],
 "metadata": {
  "kernelspec": {
   "display_name": "Python 3",
   "language": "python",
   "name": "python3"
  },
  "language_info": {
   "codemirror_mode": {
    "name": "ipython",
    "version": 3
   },
   "file_extension": ".py",
   "mimetype": "text/x-python",
   "name": "python",
   "nbconvert_exporter": "python",
   "pygments_lexer": "ipython3",
   "version": "3.5.4"
  }
 },
 "nbformat": 4,
 "nbformat_minor": 2
}
