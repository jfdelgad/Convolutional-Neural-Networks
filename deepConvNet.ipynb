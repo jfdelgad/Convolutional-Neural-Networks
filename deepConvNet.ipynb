{
  "nbformat": 4,
  "nbformat_minor": 0,
  "metadata": {
    "colab": {
      "name": "deepConvNet.ipynb",
      "provenance": [],
      "collapsed_sections": [],
      "authorship_tag": "ABX9TyPmyY+oGx19fxKq+co6qu+9",
      "include_colab_link": true
    },
    "kernelspec": {
      "name": "python3",
      "display_name": "Python 3"
    }
  },
  "cells": [
    {
      "cell_type": "markdown",
      "metadata": {
        "id": "view-in-github",
        "colab_type": "text"
      },
      "source": [
        "<a href=\"https://colab.research.google.com/github/jfdelgad/convolutionalnetworks_mnist/blob/master/deepConvNet.ipynb\" target=\"_parent\"><img src=\"https://colab.research.google.com/assets/colab-badge.svg\" alt=\"Open In Colab\"/></a>"
      ]
    },
    {
      "cell_type": "code",
      "metadata": {
        "id": "YJiPKxkjU-bj",
        "colab_type": "code",
        "colab": {
          "base_uri": "https://localhost:8080/",
          "height": 85
        },
        "outputId": "fb66b483-849d-477e-8f4c-744e6639396f"
      },
      "source": [
        "# Import tools\n",
        "import numpy as np\n",
        "import tensorflow as tf\n",
        "from tensorflow import keras\n",
        "from tensorflow.keras.datasets import mnist\n",
        "import matplotlib.pyplot as plt\n",
        "\n",
        "\n",
        "# Load data and normalize to make images values have amaximun of 1\n",
        "(trainData, trainLabels),(testData, testLabels) = mnist.load_data();\n",
        "trainData = trainData.astype('float32')/255\n",
        "testData = testData.astype('float32')/255\n",
        "\n",
        "trainData = np.expand_dims(trainData, 3);\n",
        "testData = np.expand_dims(testData, 3);\n",
        "\n",
        "trainLabels = keras.utils.to_categorical(trainLabels,10);\n",
        "testLabels = keras.utils.to_categorical(testLabels,10);\n",
        "\n",
        "print('Train data size: ', trainData.shape)\n",
        "print('Test data size: ', testData.shape)"
      ],
      "execution_count": 1,
      "outputs": [
        {
          "output_type": "stream",
          "text": [
            "Downloading data from https://storage.googleapis.com/tensorflow/tf-keras-datasets/mnist.npz\n",
            "11493376/11490434 [==============================] - 0s 0us/step\n",
            "Train data size:  (60000, 28, 28, 1)\n",
            "Test data size:  (10000, 28, 28, 1)\n"
          ],
          "name": "stdout"
        }
      ]
    },
    {
      "cell_type": "code",
      "metadata": {
        "id": "gRJl8Xk7VG1j",
        "colab_type": "code",
        "colab": {
          "base_uri": "https://localhost:8080/",
          "height": 731
        },
        "outputId": "9dadfc7a-a7c4-49b6-fbce-3291476c3d46"
      },
      "source": [
        "# if you are rerunning this, clear the old model\n",
        "keras.backend.clear_session()\n",
        "\n",
        "# Set the network 3 conv2d layers with maxpooling over the size of the filter of the previous layer\n",
        "# also batchnormalization is used before every layer, which imporves speed\n",
        "inputs = keras.layers.Input(shape=(trainData.shape[1:]))\n",
        "x = keras.layers.BatchNormalization()(inputs)\n",
        "x = keras.layers.Conv2D(100,3, activation='relu', padding='valid',input_shape=inputs.shape[1:])(x)\n",
        "x = keras.layers.MaxPooling2D((3,3),(1,1))(x)\n",
        "x = keras.layers.BatchNormalization()(x)\n",
        "x = keras.layers.Conv2D(50,3, activation='relu')(x)\n",
        "x = keras.layers.MaxPooling2D((3,3),(1,1))(x)\n",
        "x = keras.layers.BatchNormalization()(x)\n",
        "x = keras.layers.Conv2D(25,3, activation='relu')(x)\n",
        "x = keras.layers.MaxPooling2D((3,3),(1,1))(x)\n",
        "x = keras.layers.BatchNormalization()(x)\n",
        "x = keras.layers.Flatten()(x)\n",
        "x = keras.layers.Dense(100,activation='relu')(x)\n",
        "x = keras.layers.BatchNormalization()(x)\n",
        "x = keras.layers.Dense(50,activation='relu')(x)\n",
        "x = keras.layers.BatchNormalization()(x)\n",
        "outputs = keras.layers.Dense(10,activation='softmax')(x)\n",
        "\n",
        "model = keras.Model(inputs=inputs,outputs=outputs)\n",
        "model.summary()\n",
        "\n"
      ],
      "execution_count": 3,
      "outputs": [
        {
          "output_type": "stream",
          "text": [
            "Model: \"model\"\n",
            "_________________________________________________________________\n",
            "Layer (type)                 Output Shape              Param #   \n",
            "=================================================================\n",
            "input_1 (InputLayer)         [(None, 28, 28, 1)]       0         \n",
            "_________________________________________________________________\n",
            "batch_normalization (BatchNo (None, 28, 28, 1)         4         \n",
            "_________________________________________________________________\n",
            "conv2d (Conv2D)              (None, 26, 26, 100)       1000      \n",
            "_________________________________________________________________\n",
            "max_pooling2d (MaxPooling2D) (None, 24, 24, 100)       0         \n",
            "_________________________________________________________________\n",
            "batch_normalization_1 (Batch (None, 24, 24, 100)       400       \n",
            "_________________________________________________________________\n",
            "conv2d_1 (Conv2D)            (None, 22, 22, 50)        45050     \n",
            "_________________________________________________________________\n",
            "max_pooling2d_1 (MaxPooling2 (None, 20, 20, 50)        0         \n",
            "_________________________________________________________________\n",
            "batch_normalization_2 (Batch (None, 20, 20, 50)        200       \n",
            "_________________________________________________________________\n",
            "conv2d_2 (Conv2D)            (None, 18, 18, 25)        11275     \n",
            "_________________________________________________________________\n",
            "max_pooling2d_2 (MaxPooling2 (None, 16, 16, 25)        0         \n",
            "_________________________________________________________________\n",
            "batch_normalization_3 (Batch (None, 16, 16, 25)        100       \n",
            "_________________________________________________________________\n",
            "flatten (Flatten)            (None, 6400)              0         \n",
            "_________________________________________________________________\n",
            "dense (Dense)                (None, 100)               640100    \n",
            "_________________________________________________________________\n",
            "batch_normalization_4 (Batch (None, 100)               400       \n",
            "_________________________________________________________________\n",
            "dense_1 (Dense)              (None, 50)                5050      \n",
            "_________________________________________________________________\n",
            "batch_normalization_5 (Batch (None, 50)                200       \n",
            "_________________________________________________________________\n",
            "dense_2 (Dense)              (None, 10)                510       \n",
            "=================================================================\n",
            "Total params: 704,289\n",
            "Trainable params: 703,637\n",
            "Non-trainable params: 652\n",
            "_________________________________________________________________\n"
          ],
          "name": "stdout"
        }
      ]
    },
    {
      "cell_type": "code",
      "metadata": {
        "id": "BOQsi5PxVw2y",
        "colab_type": "code",
        "colab": {
          "base_uri": "https://localhost:8080/",
          "height": 34
        },
        "outputId": "be16b9a6-b954-4dd3-b0e0-4e2469ecec3a"
      },
      "source": [
        "# Compile, use Adadelta to reduce the effect of decreasing earning rate\n",
        "model.compile(\n",
        "    loss=keras.losses.CategoricalCrossentropy(from_logits=True),\n",
        "    optimizer=keras.optimizers.Adadelta(learning_rate=1),\n",
        "    metrics=[\"accuracy\"],\n",
        ")\n",
        "\n",
        "# train the model and plot the loss history, consider to increase the epochs if the loss history sugest it\n",
        "history = model.fit(trainData,trainLabels,batch_size=1000, epochs=30, validation_split=0.2)\n",
        "plt.plot(history.history['loss'])\n",
        "\n"
      ],
      "execution_count": null,
      "outputs": [
        {
          "output_type": "stream",
          "text": [
            "\b\b\b\b\b\b\b\b\b\b\b\b\b\b\b\b\b\b\b\b\b\b\b\b\b\b\b\b\b\b\b\b\b\b\b\b\b\b\b\b\b\b\b\b\b\b\b\b\b\b\b\b\b\b\b\b\b\b\b\b\b\b\b\b\b\b\b\b\b\b\b\b\b\b\b\b\b\b\b\b\b\b\b\b\r13/48 [=======>......................] - ETA: 4:33 - loss: 1.4772 - accuracy: 0.9916"
          ],
          "name": "stdout"
        }
      ]
    },
    {
      "cell_type": "code",
      "metadata": {
        "id": "3sR28oJFXzM_",
        "colab_type": "code",
        "colab": {}
      },
      "source": [
        "#Test the model\n",
        "model.evaluate(testData,testLabels)"
      ],
      "execution_count": null,
      "outputs": []
    }
  ]
}