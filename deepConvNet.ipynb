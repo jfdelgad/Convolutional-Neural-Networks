{
  "nbformat": 4,
  "nbformat_minor": 0,
  "metadata": {
    "colab": {
      "name": "Untitled0.ipynb",
      "provenance": [],
      "authorship_tag": "ABX9TyM+75FGH26P0u7omID66APa",
      "include_colab_link": true
    },
    "kernelspec": {
      "name": "python3",
      "display_name": "Python 3"
    }
  },
  "cells": [
    {
      "cell_type": "markdown",
      "metadata": {
        "id": "view-in-github",
        "colab_type": "text"
      },
      "source": [
        "<a href=\"https://colab.research.google.com/github/jfdelgad/convolutionalnetworks_mnist/blob/master/deepConvNet.ipynb\" target=\"_parent\"><img src=\"https://colab.research.google.com/assets/colab-badge.svg\" alt=\"Open In Colab\"/></a>"
      ]
    },
    {
      "cell_type": "code",
      "metadata": {
        "id": "YJiPKxkjU-bj",
        "colab_type": "code",
        "colab": {}
      },
      "source": [
        "# Import tools\n",
        "import numpy as np\n",
        "import tensorflow as tf\n",
        "from tensorflow import keras\n",
        "from tensorflow.keras.datasets import mnist\n",
        "import matplotlib.pyplot as plt\n",
        "\n",
        "\n",
        "# Load data and normalize to make images values have amaximun of 1\n",
        "(trainData, trainLabels),(testData, testLabels) = mnist.load_data();\n",
        "trainData = trainData.astype('float32')/255\n",
        "testData = testData.astype('float32')/255\n",
        "\n",
        "trainData = np.expand_dims(trainData, 3);\n",
        "testData = np.expand_dims(testData, 3);\n",
        "\n",
        "trainLabels = keras.utils.to_categorical(trainLabels,10);\n",
        "testLabels = keras.utils.to_categorical(testLabels,10);\n",
        "\n",
        "print('Train data size: ', trainData.shape)\n",
        "print('Test data size: ', testData.shape)"
      ],
      "execution_count": null,
      "outputs": []
    },
    {
      "cell_type": "code",
      "metadata": {
        "id": "gRJl8Xk7VG1j",
        "colab_type": "code",
        "colab": {}
      },
      "source": [
        "# if you are rerunning this, clear the old model\n",
        "keras.backend.clear_session()\n",
        "\n",
        "# Set the network 3 conv2d layers with maxpooling over the size of the filter of the previous layer\n",
        "# also batchnormalization is used before every layer, which imporves speed\n",
        "nputs = keras.layers.Input(shape=(trainData.shape[1:]))\n",
        "x = keras.layers.BatchNormalization()(inputs)\n",
        "x = keras.layers.Conv2D(100,3, activation='relu', padding='valid',input_shape=inputs.shape[1:])(x)\n",
        "x = keras.layers.MaxPooling2D((3,3),(1,1))(x)\n",
        "x = keras.layers.BatchNormalization()(x)\n",
        "x = keras.layers.Conv2D(50,3, activation='relu')(x)\n",
        "x = keras.layers.MaxPooling2D((3,3),(1,1))(x)\n",
        "x = keras.layers.BatchNormalization()(x)\n",
        "x = keras.layers.Conv2D(25,3, activation='relu')(x)\n",
        "x = keras.layers.MaxPooling2D((3,3),(1,1))(x)\n",
        "x = keras.layers.BatchNormalization()(x)\n",
        "x = keras.layers.Flatten()(x)\n",
        "x = keras.layers.Dense(100,activation='relu')(x)\n",
        "x = keras.layers.BatchNormalization()(x)\n",
        "x = keras.layers.Dense(50,activation='relu')(x)\n",
        "x = keras.layers.BatchNormalization()(x)\n",
        "outputs = keras.layers.Dense(10,activation='softmax')(x)\n",
        "\n",
        "model = keras.Model(inputs=inputs,outputs=outputs)\n",
        "model.summary()\n",
        "\n"
      ],
      "execution_count": null,
      "outputs": []
    },
    {
      "cell_type": "code",
      "metadata": {
        "id": "BOQsi5PxVw2y",
        "colab_type": "code",
        "colab": {}
      },
      "source": [
        "# Compile, use Adadelta to reduce the effect of decreasing earning rate\n",
        "model.compile(\n",
        "    loss=keras.losses.CategoricalCrossentropy(from_logits=True),\n",
        "    optimizer=keras.optimizers.Adadelta(learning_rate=1),\n",
        "    metrics=[\"accuracy\"],\n",
        ")\n",
        "\n",
        "# train the model and plot the loss history, consider to increase the epochs if the loss history sugest it\n",
        "history = model.fit(trainData,trainLabels,batch_size=1000, epochs=30, validation_split=0.2)\n",
        "plt.plot(history.history['loss'])\n",
        "\n"
      ],
      "execution_count": null,
      "outputs": []
    },
    {
      "cell_type": "code",
      "metadata": {
        "id": "3sR28oJFXzM_",
        "colab_type": "code",
        "colab": {}
      },
      "source": [
        "#Test the model\n",
        "model.evaluate(testData,testLabels)"
      ],
      "execution_count": null,
      "outputs": []
    }
  ]
}