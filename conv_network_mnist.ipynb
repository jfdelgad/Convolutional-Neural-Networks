{
 "cells": [
  {
   "cell_type": "markdown",
   "metadata": {},
   "source": [
    "Load Data and save it to the hard drive."
   ]
  },
  {
   "cell_type": "code",
   "execution_count": null,
   "metadata": {},
   "outputs": [],
   "source": [
    "# jaime Delgado 07/02/2018\n",
    "import pickle \n",
    "import numpy as np\n",
    "import keras\n",
    "from keras.models import Sequential\n",
    "from keras.layers import Dense, Conv2D, Flatten, MaxPooling2D\n",
    "import matplotlib.pyplot as plt\n",
    "from keras.datasets import mnist\n",
    "import pickle\n",
    "\n",
    "# Get dataset Mnist\n",
    "(trainData,trainLabels),(testData,testLabels)  = mnist.load_data()\n",
    "\n",
    "\n",
    "# save dataset to hard drive\n",
    "f = open(\"mnistData.pickle\",\"wb\")\n",
    "pickle.dump([trainData,testData,trainLabels,testLabels],f)\n",
    "f.close()\n"
   ]
  },
  {
   "cell_type": "markdown",
   "metadata": {},
   "source": [
    "Implement the CNN train and test."
   ]
  },
  {
   "cell_type": "code",
   "execution_count": null,
   "metadata": {},
   "outputs": [],
   "source": [
    "# Load Mnist Data\n",
    "f = open(\"mnistData.pickle\",\"rb\")\n",
    "trainData,testData,trainLabels,testLabels = pickle.load(f)\n",
    "\n",
    "\n",
    "# Organize data\n",
    "trainData = np.expand_dims(trainData,axis=3)\n",
    "testData = np.expand_dims(testData,axis=3)\n",
    "\n",
    "trainLabels = keras.utils.to_categorical(trainLabels, num_classes=10)\n",
    "testLabels = keras.utils.to_categorical(testLabels, num_classes=10)\n",
    "\n",
    "\n",
    "\n",
    "# create the network\n",
    "model = Sequential()\n",
    "\n",
    "# 3 convolutional layers, 32, 64 and 64 filters\n",
    "model.add(Conv2D(32,(3,3), activation='relu',input_shape=(trainData.shape[1],trainData.shape[2],1)))\n",
    "model.add(MaxPooling2D(pool_size=(2,2)))\n",
    "model.add(Conv2D(64,(3,3), activation='relu'))\n",
    "model.add(MaxPooling2D(pool_size=(2,2)))\n",
    "model.add(Conv2D(64,(3,3), activation='relu'))\n",
    "model.add(Flatten())\n",
    "\n",
    "# 3 dense layers\n",
    "model.add(Dense(500, activation='sigmoid')) \n",
    "model.add(Dense(200, activation='sigmoid')) \n",
    "model.add(Dense(10, activation='softmax'))\n",
    " \n",
    "# set the learning parameters\n",
    "model.compile(optimizer='rmsprop', loss='categorical_crossentropy',metrics=['accuracy'])\n",
    "\n",
    "#learn, use 20 perecnt for validation (just to see differences between training and testing performance)\n",
    "model.fit(trainData,trainLabels,batch_size=4000,epochs=100, validation_split = 0.2)\n",
    "\n",
    "# test on the test data\n",
    "score = model.evaluate(testData,testLabels)\n",
    "\n",
    "print('Accuracy on the test data: ', score[1])\n",
    "\n"
   ]
  },
  {
   "cell_type": "code",
   "execution_count": null,
   "metadata": {},
   "outputs": [],
   "source": []
  }
 ],
 "metadata": {
  "kernelspec": {
   "display_name": "Python 3",
   "language": "python",
   "name": "python3"
  },
  "language_info": {
   "codemirror_mode": {
    "name": "ipython",
    "version": 3
   },
   "file_extension": ".py",
   "mimetype": "text/x-python",
   "name": "python",
   "nbconvert_exporter": "python",
   "pygments_lexer": "ipython3",
   "version": "3.5.4"
  }
 },
 "nbformat": 4,
 "nbformat_minor": 2
}
